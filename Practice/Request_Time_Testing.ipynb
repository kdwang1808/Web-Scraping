{
 "cells": [
  {
   "cell_type": "code",
   "execution_count": 0,
   "metadata": {
    "colab": {
     "base_uri": "https://localhost:8080/",
     "height": 34
    },
    "colab_type": "code",
    "id": "1UMHZ2YyfNrP",
    "outputId": "a7cfac78-c8d0-4570-f420-029362dfb9d3"
   },
   "outputs": [
    {
     "name": "stdout",
     "output_type": "stream",
     "text": [
      "It costs 31.420 seconds to run 100 times.\n"
     ]
    }
   ],
   "source": [
    "import requests\n",
    "import time\n",
    "def getHTMLTText(url):\n",
    "    try:\n",
    "        r = requests.get(url, timeout = 30)\n",
    "        r.raise_for_status() #如果状态不是200，引发HTTP异常\n",
    "        r.encoding = r.apparent_encoding\n",
    "        return r.text\n",
    "    except:\n",
    "        return \"An Error!\"\n",
    "n = 100\n",
    "url = \"https://www.baidu.com/\"\n",
    "start = time.time()\n",
    "for i in range(1,n):\n",
    "    getHTMLTText(url)\n",
    "end = time.time()\n",
    "print(\"It costs {:.3f} seconds to run {} times.\".format(end-start, n))"
   ]
  },
  {
   "cell_type": "code",
   "execution_count": 0,
   "metadata": {
    "colab": {},
    "colab_type": "code",
    "id": "re0HNUtYfaFv"
   },
   "outputs": [],
   "source": []
  }
 ],
 "metadata": {
  "colab": {
   "collapsed_sections": [],
   "name": "测试Request爬取时间",
   "provenance": []
  },
  "kernelspec": {
   "display_name": "Python 3",
   "language": "python",
   "name": "python3"
  },
  "language_info": {
   "codemirror_mode": {
    "name": "ipython",
    "version": 3
   },
   "file_extension": ".py",
   "mimetype": "text/x-python",
   "name": "python",
   "nbconvert_exporter": "python",
   "pygments_lexer": "ipython3",
   "version": "3.6.7"
  }
 },
 "nbformat": 4,
 "nbformat_minor": 1
}
