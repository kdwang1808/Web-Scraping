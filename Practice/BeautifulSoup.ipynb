{
  "nbformat": 4,
  "nbformat_minor": 0,
  "metadata": {
    "colab": {
      "name": "BeautifulSoup",
      "provenance": [],
      "collapsed_sections": []
    },
    "kernelspec": {
      "name": "python3",
      "display_name": "Python 3"
    }
  },
  "cells": [
    {
      "cell_type": "code",
      "metadata": {
        "id": "zQeVrD5FTWZF",
        "colab_type": "code",
        "colab": {}
      },
      "source": [
        "from bs4 import BeautifulSoup"
      ],
      "execution_count": 0,
      "outputs": []
    },
    {
      "cell_type": "code",
      "metadata": {
        "id": "i74K084dTegF",
        "colab_type": "code",
        "outputId": "25fff1b4-5464-4efe-8659-0f4c44e4bd1d",
        "colab": {
          "base_uri": "https://localhost:8080/",
          "height": 138
        }
      },
      "source": [
        "import requests\n",
        "r = requests.get(\"http://python123.io/ws/demo.html\")\n",
        "demo = r.text\n",
        "print(demo)"
      ],
      "execution_count": 0,
      "outputs": [
        {
          "output_type": "stream",
          "text": [
            "<html><head><title>This is a python demo page</title></head>\r\n",
            "<body>\r\n",
            "<p class=\"title\"><b>The demo python introduces several python courses.</b></p>\r\n",
            "<p class=\"course\">Python is a wonderful general-purpose programming language. You can learn Python from novice to professional by tracking the following courses:\r\n",
            "<a href=\"http://www.icourse163.org/course/BIT-268001\" class=\"py1\" id=\"link1\">Basic Python</a> and <a href=\"http://www.icourse163.org/course/BIT-1001870001\" class=\"py2\" id=\"link2\">Advanced Python</a>.</p>\r\n",
            "</body></html>\n"
          ],
          "name": "stdout"
        }
      ]
    },
    {
      "cell_type": "code",
      "metadata": {
        "id": "5RGgaD1ZTzgz",
        "colab_type": "code",
        "outputId": "7a222e3d-5ce5-4f37-a1ec-f8c19194db9b",
        "colab": {
          "base_uri": "https://localhost:8080/",
          "height": 437
        }
      },
      "source": [
        "soup = BeautifulSoup(demo, 'html.parser')\n",
        "print(soup.prettify()) #html格式输出显示，可显示中文"
      ],
      "execution_count": 0,
      "outputs": [
        {
          "output_type": "stream",
          "text": [
            "<html>\n",
            " <head>\n",
            "  <title>\n",
            "   This is a python demo page\n",
            "  </title>\n",
            " </head>\n",
            " <body>\n",
            "  <p class=\"title\">\n",
            "   <b>\n",
            "    The demo python introduces several python courses.\n",
            "   </b>\n",
            "  </p>\n",
            "  <p class=\"course\">\n",
            "   Python is a wonderful general-purpose programming language. You can learn Python from novice to professional by tracking the following courses:\n",
            "   <a class=\"py1\" href=\"http://www.icourse163.org/course/BIT-268001\" id=\"link1\">\n",
            "    Basic Python\n",
            "   </a>\n",
            "   and\n",
            "   <a class=\"py2\" href=\"http://www.icourse163.org/course/BIT-1001870001\" id=\"link2\">\n",
            "    Advanced Python\n",
            "   </a>\n",
            "   .\n",
            "  </p>\n",
            " </body>\n",
            "</html>\n"
          ],
          "name": "stdout"
        }
      ]
    },
    {
      "cell_type": "code",
      "metadata": {
        "id": "eYn0BeP-UBCc",
        "colab_type": "code",
        "outputId": "cc8e16f2-ff7e-4e7e-9031-3350ed45fd3c",
        "colab": {
          "base_uri": "https://localhost:8080/",
          "height": 34
        }
      },
      "source": [
        "soup.title"
      ],
      "execution_count": 0,
      "outputs": [
        {
          "output_type": "execute_result",
          "data": {
            "text/plain": [
              "<title>This is a python demo page</title>"
            ]
          },
          "metadata": {
            "tags": []
          },
          "execution_count": 5
        }
      ]
    },
    {
      "cell_type": "code",
      "metadata": {
        "id": "0omZxnMfW-of",
        "colab_type": "code",
        "outputId": "c9f94a39-fb9a-47a2-ef26-62b4515b6417",
        "colab": {
          "base_uri": "https://localhost:8080/",
          "height": 54
        }
      },
      "source": [
        "tag = soup.a #a标签定义超链接，p是段落，b是粗体文本，获取html的a标签的信息(soup.a默认获取第一个a标签，想获取全部就用for循环去遍历)\n",
        "tag"
      ],
      "execution_count": 0,
      "outputs": [
        {
          "output_type": "execute_result",
          "data": {
            "text/plain": [
              "<a class=\"py1\" href=\"http://www.icourse163.org/course/BIT-268001\" id=\"link1\">Basic Python</a>"
            ]
          },
          "metadata": {
            "tags": []
          },
          "execution_count": 6
        }
      ]
    },
    {
      "cell_type": "code",
      "metadata": {
        "id": "tCKcdo-tXKHu",
        "colab_type": "code",
        "outputId": "75e5151d-d3f7-42af-86e8-50a48d33a190",
        "colab": {
          "base_uri": "https://localhost:8080/",
          "height": 34
        }
      },
      "source": [
        "soup.a.name"
      ],
      "execution_count": 0,
      "outputs": [
        {
          "output_type": "execute_result",
          "data": {
            "text/plain": [
              "'a'"
            ]
          },
          "metadata": {
            "tags": []
          },
          "execution_count": 7
        }
      ]
    },
    {
      "cell_type": "code",
      "metadata": {
        "id": "bOtTEeyAXetX",
        "colab_type": "code",
        "outputId": "16807f3a-00f2-4a79-8dc6-9a6972146646",
        "colab": {
          "base_uri": "https://localhost:8080/",
          "height": 34
        }
      },
      "source": [
        "soup.a.parent.name"
      ],
      "execution_count": 0,
      "outputs": [
        {
          "output_type": "execute_result",
          "data": {
            "text/plain": [
              "'p'"
            ]
          },
          "metadata": {
            "tags": []
          },
          "execution_count": 8
        }
      ]
    },
    {
      "cell_type": "code",
      "metadata": {
        "id": "i0d7t7h4XhGw",
        "colab_type": "code",
        "outputId": "43bcdb76-e420-4d06-caa3-608b9425403b",
        "colab": {
          "base_uri": "https://localhost:8080/",
          "height": 34
        }
      },
      "source": [
        "soup.a.parent.parent.name"
      ],
      "execution_count": 0,
      "outputs": [
        {
          "output_type": "execute_result",
          "data": {
            "text/plain": [
              "'body'"
            ]
          },
          "metadata": {
            "tags": []
          },
          "execution_count": 9
        }
      ]
    },
    {
      "cell_type": "code",
      "metadata": {
        "id": "u-DPnI1PXkTj",
        "colab_type": "code",
        "outputId": "cb8a2161-c516-4eb9-c86a-0a0439ed1a4f",
        "colab": {
          "base_uri": "https://localhost:8080/",
          "height": 67
        }
      },
      "source": [
        "tag.attrs"
      ],
      "execution_count": 0,
      "outputs": [
        {
          "output_type": "execute_result",
          "data": {
            "text/plain": [
              "{'class': ['py1'],\n",
              " 'href': 'http://www.icourse163.org/course/BIT-268001',\n",
              " 'id': 'link1'}"
            ]
          },
          "metadata": {
            "tags": []
          },
          "execution_count": 10
        }
      ]
    },
    {
      "cell_type": "code",
      "metadata": {
        "id": "01rG2YHeXtzs",
        "colab_type": "code",
        "outputId": "c6a04424-d0a4-4e17-c945-7a05ecdf6573",
        "colab": {
          "base_uri": "https://localhost:8080/",
          "height": 84
        }
      },
      "source": [
        "print(tag.attrs['class'])\n",
        "print(tag.attrs['href'])\n",
        "print(type(tag.attrs))\n",
        "print(type(tag))"
      ],
      "execution_count": 0,
      "outputs": [
        {
          "output_type": "stream",
          "text": [
            "['py1']\n",
            "http://www.icourse163.org/course/BIT-268001\n",
            "<class 'dict'>\n",
            "<class 'bs4.element.Tag'>\n"
          ],
          "name": "stdout"
        }
      ]
    },
    {
      "cell_type": "code",
      "metadata": {
        "id": "7yVXSYzTYHHD",
        "colab_type": "code",
        "outputId": "8d247c68-eeb3-45b9-8451-5418b251cae0",
        "colab": {
          "base_uri": "https://localhost:8080/",
          "height": 34
        }
      },
      "source": [
        "soup.a.string"
      ],
      "execution_count": 0,
      "outputs": [
        {
          "output_type": "execute_result",
          "data": {
            "text/plain": [
              "'Basic Python'"
            ]
          },
          "metadata": {
            "tags": []
          },
          "execution_count": 12
        }
      ]
    },
    {
      "cell_type": "code",
      "metadata": {
        "id": "IdPgLYwWYTzv",
        "colab_type": "code",
        "outputId": "eb41acd2-c0b8-49d4-8460-c6f8f04aaf3e",
        "colab": {
          "base_uri": "https://localhost:8080/",
          "height": 34
        }
      },
      "source": [
        "soup.p.string #不会包含内部b标签"
      ],
      "execution_count": 0,
      "outputs": [
        {
          "output_type": "execute_result",
          "data": {
            "text/plain": [
              "'The demo python introduces several python courses.'"
            ]
          },
          "metadata": {
            "tags": []
          },
          "execution_count": 13
        }
      ]
    },
    {
      "cell_type": "code",
      "metadata": {
        "id": "tUYDBeA0YX3J",
        "colab_type": "code",
        "outputId": "186eea4a-256d-45b0-f036-3ae6c382a04c",
        "colab": {
          "base_uri": "https://localhost:8080/",
          "height": 34
        }
      },
      "source": [
        "print(type(soup.p.string))"
      ],
      "execution_count": 0,
      "outputs": [
        {
          "output_type": "stream",
          "text": [
            "<class 'bs4.element.NavigableString'>\n"
          ],
          "name": "stdout"
        }
      ]
    },
    {
      "cell_type": "code",
      "metadata": {
        "id": "oK0pefTdYkUT",
        "colab_type": "code",
        "outputId": "4be49ce3-13f1-4c5a-b677-3682868e5201",
        "colab": {
          "base_uri": "https://localhost:8080/",
          "height": 34
        }
      },
      "source": [
        "newsoup = BeautifulSoup(\"<b><!--This is a comment--></b><p>This is not a comment</p>\", \"html.parser\")\n",
        "newsoup.b.string"
      ],
      "execution_count": 0,
      "outputs": [
        {
          "output_type": "execute_result",
          "data": {
            "text/plain": [
              "'This is a comment'"
            ]
          },
          "metadata": {
            "tags": []
          },
          "execution_count": 15
        }
      ]
    },
    {
      "cell_type": "code",
      "metadata": {
        "id": "NvdiovXqZNZW",
        "colab_type": "code",
        "outputId": "5b18bb21-ec4b-481c-9b69-e19e74fca892",
        "colab": {
          "base_uri": "https://localhost:8080/",
          "height": 50
        }
      },
      "source": [
        "print(type(newsoup.b.string))\n",
        "print(type(newsoup.p.string))"
      ],
      "execution_count": 0,
      "outputs": [
        {
          "output_type": "stream",
          "text": [
            "<class 'bs4.element.Comment'>\n",
            "<class 'bs4.element.NavigableString'>\n"
          ],
          "name": "stdout"
        }
      ]
    },
    {
      "cell_type": "code",
      "metadata": {
        "id": "3Wxmhjc8ZaJF",
        "colab_type": "code",
        "outputId": "bcaf207d-265b-4c1d-9d66-380b1a72fe70",
        "colab": {
          "base_uri": "https://localhost:8080/",
          "height": 104
        }
      },
      "source": [
        "print(soup.head)\n",
        "print(soup.head.contents) #返回列表\n",
        "print(soup.body.contents)"
      ],
      "execution_count": 0,
      "outputs": [
        {
          "output_type": "stream",
          "text": [
            "<head><title>This is a python demo page</title></head>\n",
            "[<title>This is a python demo page</title>]\n",
            "['\\n', <p class=\"title\"><b>The demo python introduces several python courses.</b></p>, '\\n', <p class=\"course\">Python is a wonderful general-purpose programming language. You can learn Python from novice to professional by tracking the following courses:\r\n",
            "<a class=\"py1\" href=\"http://www.icourse163.org/course/BIT-268001\" id=\"link1\">Basic Python</a> and <a class=\"py2\" href=\"http://www.icourse163.org/course/BIT-1001870001\" id=\"link2\">Advanced Python</a>.</p>, '\\n']\n"
          ],
          "name": "stdout"
        }
      ]
    },
    {
      "cell_type": "code",
      "metadata": {
        "id": "jHliV4_Sa2Pd",
        "colab_type": "code",
        "outputId": "31aa8b96-99dc-4cc2-be9f-0f97bf2a7cb7",
        "colab": {
          "base_uri": "https://localhost:8080/",
          "height": 34
        }
      },
      "source": [
        "len(soup.body.contents)"
      ],
      "execution_count": 0,
      "outputs": [
        {
          "output_type": "execute_result",
          "data": {
            "text/plain": [
              "5"
            ]
          },
          "metadata": {
            "tags": []
          },
          "execution_count": 18
        }
      ]
    },
    {
      "cell_type": "code",
      "metadata": {
        "id": "ll_s1FoUa7Zr",
        "colab_type": "code",
        "outputId": "10124627-eb66-4149-c39f-3faee192823c",
        "colab": {
          "base_uri": "https://localhost:8080/",
          "height": 34
        }
      },
      "source": [
        "print(soup.body.contents[1]) #第一个节点"
      ],
      "execution_count": 0,
      "outputs": [
        {
          "output_type": "stream",
          "text": [
            "<p class=\"title\"><b>The demo python introduces several python courses.</b></p>\n"
          ],
          "name": "stdout"
        }
      ]
    },
    {
      "cell_type": "code",
      "metadata": {
        "id": "0y3fS3DdbDCU",
        "colab_type": "code",
        "outputId": "15d24e73-303d-4507-df8f-6f932dc487b4",
        "colab": {
          "base_uri": "https://localhost:8080/",
          "height": 188
        }
      },
      "source": [
        "#遍历儿子节点\n",
        "for child in soup.body.children:\n",
        "  print(child)"
      ],
      "execution_count": 0,
      "outputs": [
        {
          "output_type": "stream",
          "text": [
            "\n",
            "\n",
            "<p class=\"title\"><b>The demo python introduces several python courses.</b></p>\n",
            "\n",
            "\n",
            "<p class=\"course\">Python is a wonderful general-purpose programming language. You can learn Python from novice to professional by tracking the following courses:\r\n",
            "<a class=\"py1\" href=\"http://www.icourse163.org/course/BIT-268001\" id=\"link1\">Basic Python</a> and <a class=\"py2\" href=\"http://www.icourse163.org/course/BIT-1001870001\" id=\"link2\">Advanced Python</a>.</p>\n",
            "\n",
            "\n"
          ],
          "name": "stdout"
        }
      ]
    },
    {
      "cell_type": "code",
      "metadata": {
        "id": "dQu2-W5LbSa-",
        "colab_type": "code",
        "outputId": "9f8af183-671e-45cd-bd60-f466eb7ba76e",
        "colab": {
          "base_uri": "https://localhost:8080/",
          "height": 356
        }
      },
      "source": [
        "#遍历所有子孙节点\n",
        "for child in soup.body.descendants:\n",
        "  print(child)"
      ],
      "execution_count": 0,
      "outputs": [
        {
          "output_type": "stream",
          "text": [
            "\n",
            "\n",
            "<p class=\"title\"><b>The demo python introduces several python courses.</b></p>\n",
            "<b>The demo python introduces several python courses.</b>\n",
            "The demo python introduces several python courses.\n",
            "\n",
            "\n",
            "<p class=\"course\">Python is a wonderful general-purpose programming language. You can learn Python from novice to professional by tracking the following courses:\r\n",
            "<a class=\"py1\" href=\"http://www.icourse163.org/course/BIT-268001\" id=\"link1\">Basic Python</a> and <a class=\"py2\" href=\"http://www.icourse163.org/course/BIT-1001870001\" id=\"link2\">Advanced Python</a>.</p>\n",
            "Python is a wonderful general-purpose programming language. You can learn Python from novice to professional by tracking the following courses:\r\n",
            "\n",
            "<a class=\"py1\" href=\"http://www.icourse163.org/course/BIT-268001\" id=\"link1\">Basic Python</a>\n",
            "Basic Python\n",
            " and \n",
            "<a class=\"py2\" href=\"http://www.icourse163.org/course/BIT-1001870001\" id=\"link2\">Advanced Python</a>\n",
            "Advanced Python\n",
            ".\n",
            "\n",
            "\n"
          ],
          "name": "stdout"
        }
      ]
    },
    {
      "cell_type": "code",
      "metadata": {
        "id": "QR6g9e8ObeqS",
        "colab_type": "code",
        "outputId": "e29b7fce-60c5-4874-bad7-6a5914ec100c",
        "colab": {
          "base_uri": "https://localhost:8080/",
          "height": 171
        }
      },
      "source": [
        "print(soup.title.parent)\n",
        "print(soup.html.parent) #是自己\n",
        "print(soup.parent) #最高级标签，父标签为空"
      ],
      "execution_count": 0,
      "outputs": [
        {
          "output_type": "stream",
          "text": [
            "<head><title>This is a python demo page</title></head>\n",
            "<html><head><title>This is a python demo page</title></head>\n",
            "<body>\n",
            "<p class=\"title\"><b>The demo python introduces several python courses.</b></p>\n",
            "<p class=\"course\">Python is a wonderful general-purpose programming language. You can learn Python from novice to professional by tracking the following courses:\r\n",
            "<a class=\"py1\" href=\"http://www.icourse163.org/course/BIT-268001\" id=\"link1\">Basic Python</a> and <a class=\"py2\" href=\"http://www.icourse163.org/course/BIT-1001870001\" id=\"link2\">Advanced Python</a>.</p>\n",
            "</body></html>\n",
            "None\n"
          ],
          "name": "stdout"
        }
      ]
    },
    {
      "cell_type": "code",
      "metadata": {
        "id": "KyZhXPMXcBzV",
        "colab_type": "code",
        "outputId": "4d809b9a-7353-4bd6-f077-251894d70794",
        "colab": {
          "base_uri": "https://localhost:8080/",
          "height": 84
        }
      },
      "source": [
        "# a标签的上行遍历\n",
        "for parent in soup.a.parents:\n",
        "  if parent is None:\n",
        "    print(parnet)\n",
        "  else:\n",
        "    print(parent.name)"
      ],
      "execution_count": 0,
      "outputs": [
        {
          "output_type": "stream",
          "text": [
            "p\n",
            "body\n",
            "html\n",
            "[document]\n"
          ],
          "name": "stdout"
        }
      ]
    },
    {
      "cell_type": "code",
      "metadata": {
        "id": "iN_eTC2zcive",
        "colab_type": "code",
        "outputId": "b8fcecfc-3564-4924-9a86-4d6f6781dd1c",
        "colab": {
          "base_uri": "https://localhost:8080/",
          "height": 104
        }
      },
      "source": [
        "# 平行遍历(获得的下一个节点未必是标签类型)\n",
        "print(soup.a.next_sibling)\n",
        "print(soup.a.next_sibling.next_sibling)\n",
        "print(soup.a.previous_sibling)"
      ],
      "execution_count": 0,
      "outputs": [
        {
          "output_type": "stream",
          "text": [
            " and \n",
            "<a class=\"py2\" href=\"http://www.icourse163.org/course/BIT-1001870001\" id=\"link2\">Advanced Python</a>\n",
            "Python is a wonderful general-purpose programming language. You can learn Python from novice to professional by tracking the following courses:\r\n",
            "\n"
          ],
          "name": "stdout"
        }
      ]
    },
    {
      "cell_type": "code",
      "metadata": {
        "id": "MXwO7R6jdjQt",
        "colab_type": "code",
        "outputId": "6b5aeb7e-59c1-4b80-82b3-97059f108513",
        "colab": {
          "base_uri": "https://localhost:8080/",
          "height": 1000
        }
      },
      "source": [
        "for sibling in soup.a.next_sibling:\n",
        "  print(sibling)\n",
        "for sibling in soup.a.previous_sibling:\n",
        "  print(sibling)"
      ],
      "execution_count": 0,
      "outputs": [
        {
          "output_type": "stream",
          "text": [
            " \n",
            "a\n",
            "n\n",
            "d\n",
            " \n",
            "P\n",
            "y\n",
            "t\n",
            "h\n",
            "o\n",
            "n\n",
            " \n",
            "i\n",
            "s\n",
            " \n",
            "a\n",
            " \n",
            "w\n",
            "o\n",
            "n\n",
            "d\n",
            "e\n",
            "r\n",
            "f\n",
            "u\n",
            "l\n",
            " \n",
            "g\n",
            "e\n",
            "n\n",
            "e\n",
            "r\n",
            "a\n",
            "l\n",
            "-\n",
            "p\n",
            "u\n",
            "r\n",
            "p\n",
            "o\n",
            "s\n",
            "e\n",
            " \n",
            "p\n",
            "r\n",
            "o\n",
            "g\n",
            "r\n",
            "a\n",
            "m\n",
            "m\n",
            "i\n",
            "n\n",
            "g\n",
            " \n",
            "l\n",
            "a\n",
            "n\n",
            "g\n",
            "u\n",
            "a\n",
            "g\n",
            "e\n",
            ".\n",
            " \n",
            "Y\n",
            "o\n",
            "u\n",
            " \n",
            "c\n",
            "a\n",
            "n\n",
            " \n",
            "l\n",
            "e\n",
            "a\n",
            "r\n",
            "n\n",
            " \n",
            "P\n",
            "y\n",
            "t\n",
            "h\n",
            "o\n",
            "n\n",
            " \n",
            "f\n",
            "r\n",
            "o\n",
            "m\n",
            " \n",
            "n\n",
            "o\n",
            "v\n",
            "i\n",
            "c\n",
            "e\n",
            " \n",
            "t\n",
            "o\n",
            " \n",
            "p\n",
            "r\n",
            "o\n",
            "f\n",
            "e\n",
            "s\n",
            "s\n",
            "i\n",
            "o\n",
            "n\n",
            "a\n",
            "l\n",
            " \n",
            "b\n",
            "y\n",
            " \n",
            "t\n",
            "r\n",
            "a\n",
            "c\n",
            "k\n",
            "i\n",
            "n\n",
            "g\n",
            " \n",
            "t\n",
            "h\n",
            "e\n",
            " \n",
            "f\n",
            "o\n",
            "l\n",
            "l\n",
            "o\n",
            "w\n",
            "i\n",
            "n\n",
            "g\n",
            " \n",
            "c\n",
            "o\n",
            "u\n",
            "r\n",
            "s\n",
            "e\n",
            "s\n",
            ":\n",
            "\r\n",
            "\n",
            "\n"
          ],
          "name": "stdout"
        }
      ]
    },
    {
      "cell_type": "code",
      "metadata": {
        "id": "t0m8rhvRdwnX",
        "colab_type": "code",
        "colab": {}
      },
      "source": [
        ""
      ],
      "execution_count": 0,
      "outputs": []
    }
  ]
}