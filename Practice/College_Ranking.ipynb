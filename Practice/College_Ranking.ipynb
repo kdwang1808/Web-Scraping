{
 "cells": [
  {
   "cell_type": "code",
   "execution_count": 3,
   "metadata": {
    "colab": {},
    "colab_type": "code",
    "id": "A8sUedvdEH5J"
   },
   "outputs": [],
   "source": [
    "import requests\n",
    "from bs4 import BeautifulSoup\n",
    "import bs4"
   ]
  },
  {
   "cell_type": "code",
   "execution_count": 4,
   "metadata": {
    "colab": {},
    "colab_type": "code",
    "id": "LAPbBx4WEVHg"
   },
   "outputs": [],
   "source": [
    "def getHTMLText(url):\n",
    "  try:\n",
    "    r = requests.get(url, timeout=30)\n",
    "    r.raise_for_status()\n",
    "    r.encoding = r.apparent_encoding\n",
    "    return r.text\n",
    "  except:\n",
    "    return \"\""
   ]
  },
  {
   "cell_type": "code",
   "execution_count": 5,
   "metadata": {
    "colab": {},
    "colab_type": "code",
    "id": "FHT7JKi4EvH9"
   },
   "outputs": [],
   "source": [
    "def fillUnivList(ulist, html):\n",
    "  soup = BeautifulSoup(html, \"html.parser\")\n",
    "  for tr in soup.find('tbody').children:\n",
    "    if isinstance(tr, bs4.element.Tag):\n",
    "      tds = tr('td')\n",
    "      ulist.append([tds[0].string, tds[1].string, tds[3].string])"
   ]
  },
  {
   "cell_type": "code",
   "execution_count": 6,
   "metadata": {
    "colab": {},
    "colab_type": "code",
    "id": "HPtTkXL0FmwZ"
   },
   "outputs": [],
   "source": [
    "def printUnivList(ulist, num):\n",
    "  tplt = \"{0:^10}\\t{1:{3}^10}\\t{2:^10}\"\n",
    "  print(tplt.format(\"Ranking\",\"University\",\"Score\", chr(12288)))\n",
    "  for i in range(num):\n",
    "    u = ulist[i]\n",
    "    print(tplt.format(u[0], u[1], u[2], chr(12288)))"
   ]
  },
  {
   "cell_type": "code",
   "execution_count": 7,
   "metadata": {
    "colab": {},
    "colab_type": "code",
    "id": "83kikamrGfGR"
   },
   "outputs": [],
   "source": [
    "def main():\n",
    "  uinfo = []\n",
    "  url = \"http://www.zuihaodaxue.cn/zuihaodaxuepaiming2016.html\"\n",
    "  html = getHTMLText(url)\n",
    "  fillUnivList(uinfo, html)\n",
    "  printUnivList(uinfo, 20)"
   ]
  },
  {
   "cell_type": "code",
   "execution_count": 8,
   "metadata": {
    "colab": {
     "base_uri": "https://localhost:8080/",
     "height": 370
    },
    "colab_type": "code",
    "id": "kf6VBFs5G7kd",
    "outputId": "52e9a669-9ea8-487e-ec07-a4a1ab28d827"
   },
   "outputs": [
    {
     "name": "stdout",
     "output_type": "stream",
     "text": [
      " Ranking  \tUniversity\t  Score   \n",
      "    1     \t　　　清华大学　　　\t   95.9   \n",
      "    2     \t　　　北京大学　　　\t   82.6   \n",
      "    3     \t　　　浙江大学　　　\t    80    \n",
      "    4     \t　　上海交通大学　　\t   78.7   \n",
      "    5     \t　　　复旦大学　　　\t   70.9   \n",
      "    6     \t　　　南京大学　　　\t   66.1   \n",
      "    7     \t　中国科学技术大学　\t   65.5   \n",
      "    8     \t　哈尔滨工业大学　　\t   63.5   \n",
      "    9     \t　　华中科技大学　　\t   62.9   \n",
      "    10    \t　　　中山大学　　　\t   62.1   \n",
      "    11    \t　　　东南大学　　　\t   61.4   \n",
      "    12    \t　　　天津大学　　　\t   60.8   \n",
      "    13    \t　　　同济大学　　　\t   59.8   \n",
      "    14    \t　北京航空航天大学　\t   59.6   \n",
      "    15    \t　　　四川大学　　　\t   59.4   \n",
      "    16    \t　　　武汉大学　　　\t   59.1   \n",
      "    17    \t　　西安交通大学　　\t   58.9   \n",
      "    18    \t　　　南开大学　　　\t   58.3   \n",
      "    19    \t　　大连理工大学　　\t   56.9   \n",
      "    20    \t　　　山东大学　　　\t   56.3   \n"
     ]
    }
   ],
   "source": [
    "main()"
   ]
  },
  {
   "cell_type": "code",
   "execution_count": null,
   "metadata": {},
   "outputs": [],
   "source": []
  }
 ],
 "metadata": {
  "colab": {
   "collapsed_sections": [],
   "name": "College Ranking",
   "provenance": []
  },
  "kernelspec": {
   "display_name": "Python 3",
   "language": "python",
   "name": "python3"
  },
  "language_info": {
   "codemirror_mode": {
    "name": "ipython",
    "version": 3
   },
   "file_extension": ".py",
   "mimetype": "text/x-python",
   "name": "python",
   "nbconvert_exporter": "python",
   "pygments_lexer": "ipython3",
   "version": "3.6.7"
  }
 },
 "nbformat": 4,
 "nbformat_minor": 1
}
