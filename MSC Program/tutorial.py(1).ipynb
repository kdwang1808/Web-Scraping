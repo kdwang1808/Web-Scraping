{
  "cells": [
    {
      "metadata": {
        "collapsed": true
      },
      "cell_type": "markdown",
      "source": "\n# Python中的数据\n"
    },
    {
      "metadata": {},
      "cell_type": "markdown",
      "source": "任何程序语言都由两部分组成：数据和对数据的操作。\n\n在了解 Python 对数据的操作之前，需要先知道 Python 储存数据的方式。\n\nPython 中有一些内建的基础数据类型：\n\n整数、浮点数、字符串、布尔值、空值。\n\n整数：如你所见，就是整数；值得一提的是，Python的整数自带了完整的大数算法，这意味着，只要你的内存够大，数就能够大。\n\n浮点数：用来在计算机存储小数（使用科学计数法），这一般用于存储很大很大（或者很小很小）的数，存储小数一般也用它，浮点数和整数不同，他的运算具有误差（学习计组了解详情！）\n\n字符串：用来存储文本，在python中，字符串使用单引号'abc'或双引号\"abc\"或三引号'''abc'''存储。\n\n此外，他使用C风格的转义字符，例如'\\n'是换行，'\\t'是制表符，诸如此类。\n\n布尔值：用来存储逻辑真（True）和假(False），对各种数据结构的逻辑运算也会得到布尔结果。\n\n空值：空值是一个特殊的值，他使用None表示，他代表没有值。（注意这和0并不一样，空值代表他连0都不是，太惨了\n\n\n## 小心空值！\n\n空值在很多地方会造成难以捕获的问题，在使用空值时，确保你知道自己在干什么。"
    },
    {
      "metadata": {},
      "cell_type": "markdown",
      "source": "\n# 变量与赋值\n\n变量用于存储一个可变的值。\n\n与 C 不同，Python 中的变量是异常灵活的。\n\n他不需要声明，也不固定一个类型，可以给他赋其他类型的值。\n\n我们用一组例子说明。\n\nprint(a)用于输出a的值。"
    },
    {
      "metadata": {
        "trusted": true
      },
      "cell_type": "code",
      "source": "a = 1 # 等号左边是变量名，右面是要赋的值\nprint(a)\na = 2 # 给 a 重新赋一个值\nprint(a)\na = a + 1 # 可以随便使用 a 的值\nprint(a)\na = '夏海曦想狠心学哈希' # 也可以给他赋不同类型的值\nprint(a)\na = 1e-10 # 浮点数！\nprint(a)",
      "execution_count": 1,
      "outputs": [
        {
          "output_type": "stream",
          "text": "1\n2\n3\n夏海曦想狠心学哈希\n1e-10\n",
          "name": "stdout"
        }
      ]
    },
    {
      "metadata": {},
      "cell_type": "markdown",
      "source": "\n# 变量的基本运算\nPython 提供了用于变量之间运算的基本操作。"
    },
    {
      "metadata": {
        "trusted": true
      },
      "cell_type": "code",
      "source": "a = 5\na = 1 + 1 + 3 * a - (1 << 1) # 数的加，减，乘，移位都很自然\nprint(a)\na = 5 / 2 # 除法（精确除）\nprint(a)\na = 5 // 2 # 除法，向下取整\nprint(a)\na = 5 % 2\nprint(a)\na += 1 # 等价于 a = a + 1，但是 Python 不支持自增（++）运算符\nprint(a)\nprint(a == 3) # ==用于判等，返回一个布尔值\nprint(a != 3) # !=用于判不等，返回一个布尔值\na = int('123') # 将字符串转换为数字\nprint(a)",
      "execution_count": 3,
      "outputs": [
        {
          "output_type": "stream",
          "text": "15\n2.5\n2\n1\n2\nFalse\nTrue\n123\n",
          "name": "stdout"
        }
      ]
    },
    {
      "metadata": {
        "trusted": true
      },
      "cell_type": "code",
      "source": "a = \"夏海曦\" # 字符串也支持一些变量基本运算\nprint(a == \"学哈希\") # 也支持判等（而无需像 C 一样使用 strcmp）\na *= 5 # 重复5次\nprint(a)\na += \"想狠心学哈希\" # 拼接字符串\nprint(a)\na = str(123) # 将数字转换为字符串\nprint(a)",
      "execution_count": 4,
      "outputs": [
        {
          "output_type": "stream",
          "text": "False\n夏海曦夏海曦夏海曦夏海曦夏海曦\n夏海曦夏海曦夏海曦夏海曦夏海曦想狠心学哈希\n123\n",
          "name": "stdout"
        }
      ]
    },
    {
      "metadata": {
        "trusted": true
      },
      "cell_type": "code",
      "source": "a = False\na = not a # 逻辑非\nprint(a)\nprint(True and False) # 逻辑与\nprint(True or False) # 逻辑或\nprint(True ^ False) # 异或",
      "execution_count": 5,
      "outputs": [
        {
          "output_type": "stream",
          "text": "True\nFalse\nTrue\nTrue\n",
          "name": "stdout"
        }
      ]
    },
    {
      "metadata": {},
      "cell_type": "markdown",
      "source": "\n# 基本集合数据类型：list, tuple, dict 与 set\n\nPython内置了4种基本集合数据类型：\n\nlist用于存储数量不定的多个元素，类似C的数组，但他的长度可变，并且允许存储不同类型的值。\n\ntuple用于存储数量确定的多个元素，长度、内容都不可变，也允许存储不同类型的值。\n\ndict用于存储键，值对，其意义在于在知道一个键后，能以较高效率找到键对应的值。Python中，值的类型是任意的，键的类型则几乎是任意的。\n\nset用于抽象数学中的集合，具体来说，set中没有重复元素，多个set可以做交、并等操作，并且能以较高的效率判断给定值是否在某个set中。"
    },
    {
      "metadata": {
        "trusted": true
      },
      "cell_type": "code",
      "source": "example_list = [1, 2, 3] # list（列表）使用中括号包裹，中括号中为列表的元素，用,分隔。\nprint(example_list)\nexample_list.append(4) # 用 append 方法向 example_list 增加元素\nprint(example_list[3]) # 用中括号获取列表某个索引对应的值， 索引从0开始\nprint(example_list[-1]) # 小于0的下标代表从最后一个元素开始数，-1代表最后一个元素，-2代表倒数第二个元素...\nexample_list[0] = 999 #可以通过下标改变单个值\nexample_list.append('夏海曦') # 也允许加入不同类型的值\ndel example_list[0] # 使用 del 删除元素\nprint(example_list)\nprint('夏海曦' in example_list)\n\nexample_tuple = (1, 2, 3) # tuple（元组）使用小括号包裹，小括号中为列元组的元素，用,分隔。\nprint(example_tuple)\n# example_tuple[0] = 4 # 不可以改变元组中的单个值!\n\n# 通过列表与元组的切片，我们能一次取出多个值\nprint(example_list[0:2]) # 第0和第1个元素\nprint(example_list[1:]) # 从第1个元素到最后一个元素\nprint(example_list[:3]) # 从一开始到第二个元素",
      "execution_count": 5,
      "outputs": [
        {
          "output_type": "stream",
          "text": "[1, 2, 3]\n4\n4\n[2, 3, 4, '夏海曦']\nTrue\n(1, 2, 3)\n[2, 3]\n[3, 4, '夏海曦']\n[2, 3, 4]\n",
          "name": "stdout"
        }
      ]
    },
    {
      "metadata": {
        "trusted": true
      },
      "cell_type": "code",
      "source": "example_dict = {'xhx': 0, 'xhxxhx': 1, 'xhxxhxxhx': 2} # dict（字典）使用大括号包裹，键和值使用:分隔，不同的字典元素使用,分隔\nprint(example_dict)\nprint(example_dict['xhx']) # 通过键索引获得对应的值\nprint(example_dict.get('xhxxxx')) # 通过 get 方法获得对应的值，与键索引不同的，如果键不存在，[]调用会产生错误，而get产生空值(None)\nexample_dict['sqc'] = 'dalao' # 通过常规的赋值改变（或创建）新的字典项\nprint(example_dict['sqc'])\n\nexample_set = set([1, 2, 3, 1, 1]) # 使用set()创建一个集合（set）\nprint(example_set)\nprint(1 in example_set)\nprint(100 in example_set)\nexample_set.add(5)\nprint(example_set)",
      "execution_count": 3,
      "outputs": [
        {
          "output_type": "stream",
          "text": "{'xhxxhxxhx': 2, 'xhx': 0, 'xhxxhx': 1}\n0\nNone\ndalao\n{1, 2, 3}\nTrue\nFalse\n{1, 2, 3, 5}\n",
          "name": "stdout"
        }
      ]
    },
    {
      "metadata": {},
      "cell_type": "markdown",
      "source": "\n# 拷贝与引用\n\n在 Python 中，变量会存储下面两部分信息：id、类型。每个 id 对应着 Python 管理的内存中的某个值。而根据变量的类型，其又分为可变和不可变的。\n\n可变类型的值是可以变更的，而不可变类型的值不可变更。而 Python 中变量之间的赋值都是改变id的值。\n\n具体来说，\n```python\na = b\n```\n所做的仅仅是把b的id和类型赋给a，此时a和b有着相同的id。\n如果我们此时变更了a，便有两种可能的情况。\n1. 我们改变 a 的 id 和类型，使 a 现在引用一块新的内存，这个过程没有碰到 a 原本的 id 所对应的值，显然与 b 完全无关。\n2. 我们改变 a 的 id 对应的值而不改变 a 的 id，正如之前所说的，b 的 id 与 a 的 id 依然相同。此时 b 的 id 对应的值（也就是 a 的 id 对应的值）也会改变。\n\n上文提到的非集合的基础类型以及元组都是不可变的，在行为上，他们表现的仿佛永远在拷贝变量，不同变量之间没有关系，因而可以放心使用。\n\n相反，对字典和列表这样的可变类型，要注意这种引用传值的特性，这在函数调用中会带来一些方便（和麻烦）。\n\n一些例子让我们更清楚的看到这一点："
    },
    {
      "metadata": {
        "trusted": true
      },
      "cell_type": "code",
      "source": "a = 1\nb = a # id 拷贝！\nprint(a, b)\nprint(id(a), id(b)) # a 和 b 现在有着相同的 id。\na = 2 # Python 为 2 开辟了新的内存，并让 a 的 id 指向这块新的内存。\nprint(a, b)\nprint(id(a), id(b)) # a 和 b 的 id 现在不同了！",
      "execution_count": 6,
      "outputs": [
        {
          "output_type": "stream",
          "text": "1 1\n94826123669568 94826123669568\n2 1\n94826123669600 94826123669568\n",
          "name": "stdout"
        }
      ]
    },
    {
      "metadata": {
        "trusted": true
      },
      "cell_type": "code",
      "source": "a = \"xhx\"\nb = a # id 拷贝！\nprint(a, b)\nprint(id(a), id(b)) # a 和 b 现在有着相同的 id。\na += \"sqc\" # Python为 \"xhxsqc\" 开辟了新的内存， 并让 a 的 id 指向这块新的内存。\nprint(a, b)\nprint(id(a), id(b)) # a 和 b 的 id 现在不同了！",
      "execution_count": null,
      "outputs": []
    },
    {
      "metadata": {
        "trusted": true
      },
      "cell_type": "code",
      "source": "a = [1, 2]\nb = a # id 拷贝！\nprint(a, b)\nprint(id(a), id(b)) # a 和 b 现在有着相同的 id。\na.append(3) # append 操作是原地的，这意味着他改变的是 a 的 id （也是 b 的 id）对应的值，而非 a 的 id。\nb.append(4)\nprint(a, b) # 此时 b 也变了！\nprint(id(a), id(b)) # a 和 b 的 id 都没变！",
      "execution_count": null,
      "outputs": []
    },
    {
      "metadata": {
        "trusted": true
      },
      "cell_type": "code",
      "source": "a = [1, 2]\n# 这个操作对大列表开销很大，请尽量避免\nb = a[:] # 真正的拷贝！ a[:] 开辟了一块新的内存（并且在这块内存拷贝了 a 原本的元素）， 让 b 的 id 指向了这块全新的内存！\nprint(a, b)\nprint(id(a), id(b)) # a 和 b 现在有着不同的 id。\na.append(3) # 这改变 a 的 id 对应的值，与 b 毫无关系。\nprint(a, b) # 此时 b 没有变化！\nprint(id(a), id(b)) # a 和 b 的 id 都没变！",
      "execution_count": null,
      "outputs": []
    },
    {
      "metadata": {},
      "cell_type": "markdown",
      "source": "\n# 程序流程控制\n\n大部分实用的应用程序都并非从头执行到尾，我们需要流程控制语句控制程序的执行方向。\n\n这需要条件语句与循环语句。"
    },
    {
      "metadata": {},
      "cell_type": "markdown",
      "source": "## 条件语句\nPython中的唯一条件语句是if，它有语句与表达式两种形式。"
    },
    {
      "metadata": {
        "trusted": true
      },
      "cell_type": "code",
      "source": "a = 0\nb = 1\n# 语句 if\nif a == b: # 一个块以冒号开始，之后，使用两个空格、四个空格或一个制表符号代表块层次。\n    print(\"equal!\")\nelse:\n    print(\"not equal!\")\n\nif a == b:\n    print(\"equal!\")\nelif a + 1 == b:\n    print(\"delta is 1!\")\nelse:\n    print(\"not equal!\")\n\n# 表达式 if\nprint(\"equal\" if a == b else \"not equal!\")\na = 2 if b == 1 else a\nprint(a)",
      "execution_count": null,
      "outputs": []
    },
    {
      "metadata": {},
      "cell_type": "markdown",
      "source": "## 循环语句\n\nPython 中有两种循环语句，while 与 for.\n\n```python\nwhile condition: # do the thing until condition is False\n    (do something)\n\nfor variable in iterable: # do the thing for everything in iterable\n    (do something)\n```"
    },
    {
      "metadata": {
        "trusted": true
      },
      "cell_type": "code",
      "source": "a = 1\nwhile a <= 100:\n    a = a * 2\n    print(a)\n\nprint('---')\n\nl = [1, 4, 2, 8, 5, 7]\nfor i in l:\n    print(i)\n\nprint('---')\n\n# ranged for\ns = 0\nfor p in range(101): # 0...100\n    s += p\nprint(s)\n\nprint('---')\nd = {'夏海曦': '牛逼!', 'sqc': '牛逼！！', 'gzy': '很弱！', 'tyh': '牛逼！！！'}\nfor name in d.keys():\n    print(name)\nprint('---')\nfor nb in d.values():\n    print(nb)\nprint('---')\nfor name, nb in d.items():\n    print(name + '真的很' + nb)\nprint('---')\n# 扩展： 列表生成式\n\nmo_list = [k + '真的很' + v for (k, v) in d.items() if v.startswith('牛逼')]\nprint(mo_list)",
      "execution_count": null,
      "outputs": []
    },
    {
      "metadata": {},
      "cell_type": "markdown",
      "source": "\n# 函数声明与调用\n\n之前我们已经使用了内置的print()函数，Python允许你自己编写函数，也可以随意调用外部函数。"
    },
    {
      "metadata": {
        "trusted": true
      },
      "cell_type": "code",
      "source": "# 我们声明一个函数，它接受一个参数 l。\ndef do_sum(l):\n    # 在这个语句块，我们阐述函数的行为。\n    s = 0\n    for i in l:\n        s += i\n    # 返回 s。\n    return s\n\n# 之后便可以调用函数\nprint(do_sum([1, 2, 3]))\nprint(do_sum(range(101)))",
      "execution_count": null,
      "outputs": []
    },
    {
      "metadata": {},
      "cell_type": "markdown",
      "source": "接下来，我们希望编写一个函数，计算平面内两点之间的距离，特别的，如果只给出了一点，我们计算它与原点的距离。"
    },
    {
      "metadata": {
        "trusted": true
      },
      "cell_type": "code",
      "source": "# 从外部导入 math 包，让我们得以使用 math 库中的函数\nimport math\n# 在函数参数中使用等号，代表给它一个默认值\ndef distance(x1, y1, x2 = 0, y2 = 0):\n    # ** 代表乘方\n    return math.sqrt((x1 - x2) ** 2 + (y1 - y2) ** 2)\n\nprint(distance(1, 0))\nprint(distance(1, 1, 2, 2))\nprint(distance(0, 1, y2 = 2))",
      "execution_count": null,
      "outputs": []
    },
    {
      "metadata": {
        "scrolled": true,
        "trusted": true
      },
      "cell_type": "code",
      "source": "# args接受任意数量的非关键词参数，作为一个列表。kwargs接受任意数量的关键词参数，作为一个字典。\ndef debug_info(*args, **kwargs):\n    print('---')\n    for i in args:\n        print(str(i))\n    for k, v in kwargs.items():\n        print(k + '，' + str(v))\ndebug_info(1, 2, 3, xhx = '牛逼!', sqc = '牛逼!')\ndebug_info((1, 2, 3)) # 作为一个值\ndebug_info(*(1, 2, 3)) # 解包",
      "execution_count": null,
      "outputs": []
    },
    {
      "metadata": {},
      "cell_type": "markdown",
      "source": "\n# 面向对象基础\n\n我们已经学习了数据和在数据上的基础操作，但是，现实中的数据并非如此简单 —— 他们由许多基础数据复合而成，而我们希望在这些数据上定义一些特有的操作来变换数据（或者输出数据），面向对象编程提供了一种范式达成这种目的，我们得以整合不同类型的数据，并定义其上的一些特有的操作。"
    },
    {
      "metadata": {
        "trusted": true
      },
      "cell_type": "code",
      "source": "import random\nwords = ['传说的', '被遗忘的', '永恒的', '天下无双的', '来自未来的', '守护世界的', '超高校级的']\n# 定义类，以 class 开头。\n# 类本身正如其所说，定义了一类事物的行为（和数据）\n# 拥有类，便能使用类创建遵从这一模式的个体，这个个体叫做实例。\nclass guy:\n    # 我们把类中的函数叫做方法。\n    # __init__是一个特殊的方法，他是实例的构造方法。\n    # 实例方法的第一个成员应该是 self（他也可以是其他名字，但习惯上都使用 self），这代表实例本身。\n    def __init__(self, name, tag, strength):\n        # 点运算符用于获取一个实例（或者类）的属性（即实例所存储的数据和方法）\n        # 在这里，我们给实例创建了一些属性，给他们赋值为构造时传递的参数\n        self.name = name\n        self.tag = tag\n        self.strength = strength if strength <= 10 else 10\n    # 这定义了一个一般的实例方法\n    def info(self):\n        # 我们也可以通过点运算符获取属性的值\n        return self.name + ' - ' + words[random.randint(0, len(words) - 1)] + self.tag\n    def strong_scale(self):\n        if self.strength < 1:\n            return('杂鱼')\n        elif self.strength < 3:\n            return('平凡')\n        elif self.strength < 6:\n            return('天赋异凛')\n        elif self.strength < 9:\n            return('无敌')\n        elif self.strength < 10:\n            return('神')\n        else:\n            return('超越万物')\n\n# 给 xhx 赋值为一个新构造的 guy 实例，注意我们并没有传入 self 的值，这是因为 Python 会自动根据上下文选择合适的 self，这里的 self 是新构造的实例。\nxhx = guy('夏海曦', '人工智能', 7)\n# 可以由一个类构造多个实例。\nsqc = guy('sqc', '爷爷', 11)\n# 通过点运算符可以调用实例方法，同样不需要传入 self，在这里 Python 根据上下文选择了 xhx 作为 info 的 self 参数。\nprint(xhx.info())\n# 通过点运算符也能调用某个实例的成员（即实例所存储的数据）。\nprint(xhx.name + '是' + xhx.strong_scale() + '之人')\nprint(sqc.info())\nprint(sqc.name + '是' + sqc.strong_scale() + '之人')",
      "execution_count": null,
      "outputs": []
    },
    {
      "metadata": {},
      "cell_type": "markdown",
      "source": "要特别注意 Python 与其他语言中类的显著区别，因为从本质上，类和实例都属于对象，因此类本身也是一种实例，它也有自己的成员和方法。"
    },
    {
      "metadata": {
        "trusted": true
      },
      "cell_type": "code",
      "source": "class guy:\n    name = 'xhx' # 不是实例的属性，而是类的属性！\nsqc = guy()\nprint(sqc.name) # 由于实例没有这个属性， Python 向上搜寻找到了类的属性\nsqc.name = 'sqc' # 我们在这时才创建了 sqc 实例的 name 属性，值为 sqc。\nprint(sqc.name)\ndel sqc.name # 删除掉 sqc 的 name 属性\nprint(sqc.name) # sqc 还是有 name，但其实是类的 name 属性。",
      "execution_count": null,
      "outputs": []
    },
    {
      "metadata": {
        "trusted": true
      },
      "cell_type": "markdown",
      "source": "## 类层次结构\n面向对象模型将一些数据包裹起来，并且在其上定义了一些方法对其操作：这允许我们应对现实中各种复杂的数据情况。\n\n然而，现实中不同类型的数据往往是有所联系的，举例来说，即使是学生也会分不同的种类，一类学生在学习时会摸鱼，而另一类学生在学习时会正常学习。\n这需要用到继承的概念。\n\n先来看一个简单的例子而不使用继承。"
    },
    {
      "metadata": {
        "trusted": true
      },
      "cell_type": "code",
      "source": "class student_weak: # 弱者学生\n    def __init__(self, name):\n        self.name = name\n    def study(self):\n        return '摸了'\n\nclass student_normal: # 普通学生\n    def __init__(self, name):\n        self.name = name\n    def study(self):\n        return '正常学习'\n\ngzy = student_weak()\nxhx = student_normal()\nprint(gzy.study())\nprint(xhx.study())",
      "execution_count": null,
      "outputs": []
    },
    {
      "metadata": {},
      "cell_type": "markdown",
      "source": "如果有一天，我们希望为学生们加入一个通用的方法：walk()，或者，现在所有的学生需要有一个新的属性：性别，这对于所有学生来说都应该是通用的，但我们需要改两个地方。\n\n更进一步，如果我们并非有两类学生，而是有非常多类学生，分别修改每一个是很累的，因此，我们希望拥有更方便的方法表示通用的学生（另外在这个通用的基础上不失定义新的学生种类的方式）。"
    },
    {
      "metadata": {
        "trusted": true
      },
      "cell_type": "code",
      "source": "class student: # 通用的学生！\n    def __init__(self, name, gender):\n        self.name = name\n        self.gender = gender\n    def walk(self):\n        return '走！'\n    def study(self):\n        return '正常学习'\n\nclass student_weak(student): # 在括号里写上继承的子类\n    def study(self):\n        return '摸了'\n\nclass student_normal(student):\n    pass # 空块内部使用 pass 跳过。\n\nclass student_god(student):\n    def __init__(self, name):\n        self.name = name\n        self.gender = 'god'\n    def go_to_sky(self): # 也可以定义属于子类的方法！\n        return '上天！'\n    def walk(self):\n        return '高傲地走！'\n    def study(self):\n        return '不需要学习'\n\ngzy = student_weak('gzy', 'male')\nxhx = student_normal('xhx', 'ai')\nsqc = student_god('sqc')\n\nprint(type(gzy))\nprint(type(sqc))\nprint(type(xhx))\n\nprint(isinstance(gzy, student))\nprint(isinstance(gzy, student))\nprint(isinstance(sqc, student))\n\nprint(gzy.walk(), xhx.walk(), sqc.walk())\nprint(gzy.study(), xhx.study(), sqc.study())\nprint(sqc.gender, sqc.go_to_sky())",
      "execution_count": null,
      "outputs": []
    },
    {
      "metadata": {},
      "cell_type": "markdown",
      "source": "一个类也可以继承多个类，这在模块化设计很有用。"
    },
    {
      "metadata": {},
      "cell_type": "markdown",
      "source": "# 包的基础使用\n使用 pip 安装或者下载其他包，使用 import 便可以导入对应的包。\n在导入包时，需要以包名为前缀，以点号调用。\n也可以导入全局作用域（不推荐）"
    },
    {
      "metadata": {
        "trusted": true
      },
      "cell_type": "code",
      "source": "import numpy as npy\nfrom math import *\nprint(npy.version.full_version)\nprint(sqrt(5))",
      "execution_count": null,
      "outputs": []
    },
    {
      "metadata": {},
      "cell_type": "markdown",
      "source": "你也可以自己写包，这是下节课的话题了！\n下节课，你将学到函数式编程基础，部分 Python 高级语法，闭包等实用特性，并对常用的标准库设施做一个概述！\n请积极参阅 https://docs.python.org/zh-cn/3/ 获得进一步信息。\n或者阅读 https://www.liaoxuefeng.com/wiki/1016959663602400 （推荐优先以 doc 为主）"
    }
  ],
  "metadata": {
    "kernelspec": {
      "name": "python3",
      "display_name": "Python 3",
      "language": "python"
    },
    "language_info": {
      "mimetype": "text/x-python",
      "nbconvert_exporter": "python",
      "name": "python",
      "file_extension": ".py",
      "version": "3.5.4",
      "pygments_lexer": "ipython3",
      "codemirror_mode": {
        "version": 3,
        "name": "ipython"
      }
    }
  },
  "nbformat": 4,
  "nbformat_minor": 1
}