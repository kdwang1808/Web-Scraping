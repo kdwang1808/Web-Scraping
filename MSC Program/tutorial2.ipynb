{
 "cells": [
  {
   "cell_type": "markdown",
   "metadata": {},
   "source": [
    "# Python 教程 - 一些高级特性\n",
    "## 核心：函数即对象\n",
    "类不仅可以有实例方法，也可以有静态方法。\n",
    "调用类方法时不需要传入实例（因而也没有self参数）"
   ]
  },
  {
   "cell_type": "code",
   "execution_count": 1,
   "metadata": {},
   "outputs": [
    {
     "name": "stdout",
     "output_type": "stream",
     "text": [
      "tyhnb!\n",
      "sqcnb!\n"
     ]
    }
   ],
   "source": [
    "class normal_class:\n",
    "    def static_method(name):\n",
    "        print(name + 'nb!')\n",
    "    def instance_method(self, name):\n",
    "        print(name + 'nb!')\n",
    "\n",
    "a = normal_class()\n",
    "a.instance_method('tyh')\n",
    "normal_class.static_method('sqc')"
   ]
  },
  {
   "cell_type": "markdown",
   "metadata": {},
   "source": [
    "既然方法和函数行为如此相似，能不能把它们统一起来？\n",
    "能！通过可调用对象！"
   ]
  },
  {
   "cell_type": "code",
   "execution_count": 2,
   "metadata": {},
   "outputs": [
    {
     "name": "stdout",
     "output_type": "stream",
     "text": [
      "hello, class!\n",
      "hello, function!\n"
     ]
    }
   ],
   "source": [
    "class might_be_a_function:\n",
    "    def __call__(self):\n",
    "        print('hello, class!')\n",
    "\n",
    "def function():\n",
    "    print('hello, function!')\n",
    "\n",
    "i = might_be_a_function()\n",
    "i()\n",
    "function()"
   ]
  },
  {
   "cell_type": "markdown",
   "metadata": {},
   "source": [
    "在Python中，函数只不过是一个可调用的对象。（准确来说是带类方法的__call__，但不关键（"
   ]
  },
  {
   "cell_type": "code",
   "execution_count": 3,
   "metadata": {},
   "outputs": [
    {
     "name": "stdout",
     "output_type": "stream",
     "text": [
      "<class 'function'>\n",
      "True\n"
     ]
    }
   ],
   "source": [
    "print(type(function))\n",
    "print(isinstance(function, object))"
   ]
  },
  {
   "cell_type": "markdown",
   "metadata": {},
   "source": [
    "既然函数也是对象，自然可以像使用对象一样使用他。\n",
    "具体来说，函数对象可以作为参数(函数式编程，lambda表达式)，也可以作为返回值（闭包，装饰器）；"
   ]
  },
  {
   "cell_type": "markdown",
   "metadata": {},
   "source": [
    "# 函数对象作为参数 - 函数式编程与lambda表达式\n",
    "对列表做一些变换生成新的列表是一个常见的任务，这有着大量的应用。\n",
    "有时，我们希望筛选列表中的一些值，生成一个新列表。\n",
    "又有时，我们的目标是遍历列表的每一个值，将他们按某种方式“加起来”，返回一个值。\n",
    "这两个操作能构筑非常丰富的组件，实际上，在分布式系统中，这种编程模式（map-reduce），是最方便快捷的方式。\n",
    "\n",
    "当然，这些任务都能用循环实现，但对比较简单的变换，这种实现比较繁琐，另外，循环只能处理有限值。\n",
    "函数式编程为我们提供了一种更简单的实现列表数据的变换方式，并且有能力处理循环处理不了的问题。"
   ]
  },
  {
   "cell_type": "code",
   "execution_count": 4,
   "metadata": {},
   "outputs": [
    {
     "name": "stdout",
     "output_type": "stream",
     "text": [
      "[False, True, False, True, False]\n"
     ]
    }
   ],
   "source": [
    "a = [1,2,3,4,5]\n",
    "result = [] # 如果a是偶数，值取 True；否则取 False\n",
    "for k in a:\n",
    "    if k % 2 == 0:\n",
    "        result.append(True)\n",
    "    else:\n",
    "        result.append(False)\n",
    "print(result)"
   ]
  },
  {
   "cell_type": "code",
   "execution_count": 11,
   "metadata": {},
   "outputs": [
    {
     "name": "stdout",
     "output_type": "stream",
     "text": [
      "<map object at 0x000002A4A98E4A90>\n",
      "[False, True, False, True, False]\n"
     ]
    }
   ],
   "source": [
    "def is_even(x):\n",
    "    return x % 2 == 0\n",
    "\n",
    "result = map(is_even, a) # map 的第一个参数是一个函数！\n",
    "print(result)# 是一个迭代器，可以作为 for 循环的迭代对象，但无法直接获取值！\n",
    "print(list(result))"
   ]
  },
  {
   "cell_type": "markdown",
   "metadata": {},
   "source": [
    "## 能否更短？\n",
    "这种简单的函数，很可能只用一次，又非常简单，能否有一种“一次性”的函数，让他直接嵌入语句中？\n",
    "\n",
    "有！lambda函数（匿名函数）为我们提供了有力的工具。\n",
    "Python的lambda函数形式为lambda parameterList: body"
   ]
  },
  {
   "cell_type": "code",
   "execution_count": 10,
   "metadata": {},
   "outputs": [
    {
     "name": "stdout",
     "output_type": "stream",
     "text": [
      "[False, True, False, True, False]\n",
      "[0, 1, 0, 1, 0]\n"
     ]
    }
   ],
   "source": [
    "result = map(lambda x: x % 2 == 0, a)\n",
    "print(list(result))\n",
    "result = map(lambda x: 1 if x % 2 == 0 else 0, a) # 一个常见的技巧\n",
    "print(list(result))"
   ]
  },
  {
   "cell_type": "markdown",
   "metadata": {},
   "source": [
    "## 什么时候用 lambda 表达式？\n",
    "lambda表达式带来简洁性的同时带来的是易读性的下降，\n",
    "在Python中，请**绝对不要**滥用 lambda 表达式，只对满足这些条件的函数使用 lambda 表达式：\n",
    "- 只用一两次\n",
    "- 非常简单\n",
    "\n",
    "只要不满足上面的任何一条，就单独写一个函数。\n",
    "另外，永远不要使用嵌套 lambda 表达式。"
   ]
  },
  {
   "cell_type": "code",
   "execution_count": 12,
   "metadata": {},
   "outputs": [
    {
     "name": "stdout",
     "output_type": "stream",
     "text": [
      "<filter object at 0x000002A4A98E4FD0>\n",
      "[2, 4]\n"
     ]
    }
   ],
   "source": [
    "result = filter(lambda x: x % 2 == 0, a) # filter，传入一个返回True或者False的函数和一个可迭代对象，构建一个列表\n",
    "# 其中的值为使函数返回 True 的那些值\n",
    "print(result)\n",
    "print(list(result))"
   ]
  },
  {
   "cell_type": "code",
   "execution_count": 13,
   "metadata": {},
   "outputs": [
    {
     "name": "stdout",
     "output_type": "stream",
     "text": [
      "55\n"
     ]
    }
   ],
   "source": [
    "import functools\n",
    "result = functools.reduce(lambda s, x: s + x**2, a) # reduce，传入一个带两个参数的函数和一个可迭代对象，构建一个值\n",
    "# 函数的第一个参数是前面所有元素运算得到的结果，第二个参数是当前值。\n",
    "# 如果 reduce 没有传入第三个参数，初始 s 为0，否则为第三个参数的值。\n",
    "print(result)"
   ]
  },
  {
   "cell_type": "markdown",
   "metadata": {},
   "source": [
    "# 函数对象作为返回值 - 闭包与装饰器\n",
    "## 闭包\n",
    "如同前面所提到的，函数也可以作为函数、方法的返回值。"
   ]
  },
  {
   "cell_type": "code",
   "execution_count": 14,
   "metadata": {},
   "outputs": [
    {
     "name": "stdout",
     "output_type": "stream",
     "text": [
      "3\n"
     ]
    }
   ],
   "source": [
    "def wrapper():\n",
    "    def get_sum(x, y):\n",
    "        return x + y\n",
    "    return get_sum # 不带括号，直接返回函数对象！\n",
    "\n",
    "sum_func = wrapper() # wrapper 返回了一个函数，现在 sum_func 是一个函数对象\n",
    "print(sum_func(1, 2))"
   ]
  },
  {
   "cell_type": "markdown",
   "metadata": {},
   "source": [
    "可是，这有什么用呢？\n",
    "使用闭包，我们让一个内部函数\"捕获“外部的值。"
   ]
  },
  {
   "cell_type": "code",
   "execution_count": 15,
   "metadata": {},
   "outputs": [
    {
     "name": "stdout",
     "output_type": "stream",
     "text": [
      "3\n",
      "4\n"
     ]
    }
   ],
   "source": [
    "def wrapper(x):\n",
    "    def get_sum_x(y):\n",
    "        return x + y\n",
    "    return get_sum_x\n",
    "\n",
    "sum_func = wrapper(1) # 虽然 get_sum_x 根本没有 x 作为参数，他根据上下文\"捕获\"了上层函数的 x。\n",
    "print(sum_func(2))\n",
    "print(sum_func(3))"
   ]
  },
  {
   "cell_type": "markdown",
   "metadata": {},
   "source": [
    "闭包可以用于固定某个函数中的一部分值，甚至也可以通过条件不同返回不同的函数来起到条件跳转的作用。"
   ]
  },
  {
   "cell_type": "markdown",
   "metadata": {},
   "source": [
    "## 装饰器\n",
    "使用闭包的一个最常见的实例便是装饰器。\n",
    "\n",
    "考虑你有一堆现成的函数，现在你的程序出现了严重的 bug，需要给每个函数加上日志。\n",
    "一个想法是把打日志的功能加到每一个函数里面，但是当函数很多时，这种方法并不高效（也很难进行扩展）。\n",
    "装饰器的产生，就是为了对现有函数赋予新的功能。\n",
    "简单来说，装饰器就是输入一个函数作为参数，返回一个函数的函数。"
   ]
  },
  {
   "cell_type": "code",
   "execution_count": 16,
   "metadata": {},
   "outputs": [
    {
     "name": "stdout",
     "output_type": "stream",
     "text": [
      "before calling:add\n",
      "after calling:add\n",
      "8\n",
      "before calling:add_no_decorator\n",
      "after calling:add_no_decorator\n",
      "8\n"
     ]
    }
   ],
   "source": [
    "def logger(func): # 输入一个函数！\n",
    "    def wrapper(*args, **kwargs): # 需要返回的函数，用 *args 和 **kwargs 表示接受任何参数，args 是列表，kwargs 是字典\n",
    "        print(\"before calling:%s\" % func.__name__) # __name__属性的值是函数的名字，这进一步体现了函数也是一个对象\n",
    "        return_value = func(*args, **kwargs) # 调用原本的函数，记录返回值（回忆用*解包一个列表为位置参数，而**解包一个字典为关键词参数）\n",
    "        print(\"after calling:%s\" % func.__name__) # 再打一条日志\n",
    "        return return_value # 之后返回应该返回的值\n",
    "    return wrapper # 返回这个函数\n",
    "\n",
    "@logger # 在函数定义前一行用 @装饰器 的形式附加装饰器\n",
    "def add(x, y):\n",
    "    return x + y\n",
    "\n",
    "def add_no_decorator(x, y):\n",
    "    return x + y\n",
    "print(add(3, 5))\n",
    "# 等价形式！\n",
    "new_function = logger(add_no_decorator)\n",
    "print(new_function(3,5))"
   ]
  },
  {
   "cell_type": "code",
   "execution_count": 17,
   "metadata": {},
   "outputs": [
    {
     "name": "stdout",
     "output_type": "stream",
     "text": [
      "hello\n",
      "8\n",
      "hello\n",
      "8\n"
     ]
    }
   ],
   "source": [
    "def logger_custom(custom_text): # 装饰器也能有参数！\n",
    "    def decorator(func): # 实际装饰器\n",
    "        def wrapper(*args, **kwargs):\n",
    "            print(custom_text)\n",
    "            return func(*args, **kwargs)\n",
    "        return wrapper\n",
    "    return decorator # 返回实际装饰器，custom_text会被装饰器捕获\n",
    "\n",
    "@logger_custom('hello')\n",
    "def add(x, y):\n",
    "    return x + y\n",
    "\n",
    "print(add(3, 5))\n",
    "\n",
    "# 等价形式！\n",
    "hello_logger = logger_custom('hello') # logger_custom 返回一个装饰器!\n",
    "@hello_logger # 用返回的装饰器（此时他作为闭包捕获了 custom_text）装饰函数\n",
    "def add2(x, y):\n",
    "    return x + y\n",
    "print(add2(3, 5))"
   ]
  },
  {
   "cell_type": "markdown",
   "metadata": {},
   "source": [
    "即使不理解也要知道装饰器很有用（尤其在第三方库里，会大量使用装饰器）"
   ]
  },
  {
   "cell_type": "markdown",
   "metadata": {},
   "source": [
    "# 还有更多？\n",
    "虽然其实扩展内容远不止这么多，但没时间了。推荐了解的扩展内容：\n",
    "迭代器，一些重要的内置方法，多线程（这个Python不太行）、协程、多进程编程（在爬虫里尤其常用\n",
    "\n",
    "请积极查阅文档：https://docs.python.org/zh-cn/3/index.html\n",
    "\n",
    "不夸张地说，一切 Python 有关的东西在文档里都有很好的描述。\n",
    "\n",
    "# 祝大家写爬虫与"
   ]
  }
 ],
 "metadata": {
  "kernelspec": {
   "display_name": "Python 3",
   "language": "python",
   "name": "python3"
  },
  "language_info": {
   "codemirror_mode": {
    "name": "ipython",
    "version": 3
   },
   "file_extension": ".py",
   "mimetype": "text/x-python",
   "name": "python",
   "nbconvert_exporter": "python",
   "pygments_lexer": "ipython3",
   "version": "3.6.7"
  }
 },
 "nbformat": 4,
 "nbformat_minor": 1
}
